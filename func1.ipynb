{
 "cells": [
  {
   "cell_type": "markdown",
   "metadata": {},
   "source": [
    "Write a script that given a time period, location, and field\n",
    "\n",
    "returns statistics like number of papers, 4\n",
    "\n",
    "Write a half page break down about the information about the graph, where it came from and such\n",
    "\n"
   ]
  },
  {
   "cell_type": "code",
   "execution_count": 2,
   "metadata": {},
   "outputs": [],
   "source": [
    "import json\n",
    "import os\n",
    "from multiprocessing import Pool\n",
    "from pathlib import Path"
   ]
  },
  {
   "cell_type": "code",
   "execution_count": 3,
   "metadata": {},
   "outputs": [],
   "source": [
    "\n",
    "countryIsoCodes = [\n",
    "    \"US\", \"CA\", \"GB\", \"AU\", \"FR\", \"DE\", \"IN\", \"JP\", \"CN\", \"BR\", \"RU\", \"ZA\", \"IT\", \"ES\",\n",
    "    \"MX\", \"KR\", \"ID\", \"TR\", \"NL\", \"CH\", \"SE\", \"NO\", \"DK\", \"FI\", \"PL\", \"NZ\", \"BE\", \"AT\",\n",
    "    \"IE\", \"PT\", \"GR\", \"IL\", \"TH\", \"MY\", \"SG\", \"PH\", \"VN\", \"SA\", \"AE\", \"AR\", \"CL\", \"CO\",\n",
    "    \"PE\", \"VE\", \"EG\", \"NG\", \"KE\", \"GH\", \"TZ\", \"UG\", \"PK\", \"BD\", \"LK\", \"NP\", \"MM\", \"KH\"\n",
    "]\n",
    "\n",
    "stateAbbr = [\n",
    "    \"AL\", \"AK\", \"AZ\", \"AR\", \"CA\", \"CO\", \"CT\", \"DE\", \"FL\", \"GA\", \"HI\", \"ID\", \"IL\", \"IN\", \n",
    "    \"IA\", \"KS\", \"KY\", \"LA\", \"ME\", \"MD\", \"MA\", \"MI\", \"MN\", \"MS\", \"MO\", \"MT\", \"NE\", \"NV\", \n",
    "    \"NH\", \"NJ\", \"NM\", \"NY\", \"NC\", \"ND\", \"OH\", \"OK\", \"OR\", \"PA\", \"RI\", \"SC\", \"SD\", \"TN\", \n",
    "    \"TX\", \"UT\", \"VT\", \"VA\", \"WA\", \"WV\", \"WI\", \"WY\", \"DC\"\n",
    "]\n",
    "\n",
    "\n"
   ]
  },
  {
   "cell_type": "markdown",
   "metadata": {},
   "source": [
    "needs to filter then the inputed list by the epoch = start year - end year, inclusive"
   ]
  },
  {
   "cell_type": "code",
   "execution_count": 4,
   "metadata": {},
   "outputs": [],
   "source": [
    "def epoch_look_up(start_year, end_year, line):\n",
    "    year = int(line.get(\"year\", \"\"))   \n",
    "    if start_year <= year:\n",
    "        if end_year >= year:\n",
    "            return True\n",
    "    return False\n",
    "        "
   ]
  },
  {
   "cell_type": "markdown",
   "metadata": {},
   "source": [
    "Location tag is a bit complicated, need to cut up string into identifiable locations"
   ]
  },
  {
   "cell_type": "code",
   "execution_count": 5,
   "metadata": {},
   "outputs": [],
   "source": [
    "def location_look_up(location, line):\n",
    "    local = line.Authors.get(\"AuthorOrg\", \"\")\n",
    "    if local == location:\n",
    "        True"
   ]
  },
  {
   "cell_type": "code",
   "execution_count": 6,
   "metadata": {},
   "outputs": [],
   "source": [
    "def field_look_up(field, line):\n",
    "    keywords = line.get(\"Keywords\", [])\n",
    "    for x in keywords:\n",
    "        if field == x:\n",
    "            True"
   ]
  },
  {
   "cell_type": "code",
   "execution_count": 7,
   "metadata": {},
   "outputs": [],
   "source": [
    "def paperLookUp(filePath, start_year, end_year, location, field):\n",
    "    \n",
    "    foundPapers = {}\n",
    "    \n",
    "    with open(filePath, 'r', encoding='utf-8') as f:\n",
    "        for line in f:\n",
    "            line_data = json.loads(line.strip())\n",
    "            \n",
    "            if epoch_look_up(start_year, end_year, line_data):\n",
    "                if location_look_up(location, line_data):\n",
    "                    if field_look_up(field, line_data):\n",
    "                        foundPapers[json.loads(line.strip())]"
   ]
  },
  {
   "cell_type": "code",
   "execution_count": 8,
   "metadata": {},
   "outputs": [],
   "source": [
    "def run_function():\n",
    "    x = 1\n",
    "    y = 1\n",
    "    folderPath = Path(\"F:/OAGProject/Output/papers_chunk_{x}\")\n",
    "    while folderPath.is_dir():\n",
    "        filePath = Path(\"F:/OAGProject/Output/papers_chunk_{x}/papers_chunk_{y}.json\")\n",
    "        if filePath.is_file():\n",
    "            paperLookUp(filePath, 2000, 2001, \"Kent\", \"Science\")\n",
    "            y = y + 1\n",
    "        else:\n",
    "            x = x + 1\n",
    "            folderPath = Path(\"F:/OAGProject/Output/papers_chunk_{x}\")\n",
    "\n"
   ]
  },
  {
   "cell_type": "code",
   "execution_count": null,
   "metadata": {},
   "outputs": [],
   "source": [
    "run_function()"
   ]
  }
 ],
 "metadata": {
  "kernelspec": {
   "display_name": "Python 3",
   "language": "python",
   "name": "python3"
  },
  "language_info": {
   "codemirror_mode": {
    "name": "ipython",
    "version": 3
   },
   "file_extension": ".py",
   "mimetype": "text/x-python",
   "name": "python",
   "nbconvert_exporter": "python",
   "pygments_lexer": "ipython3",
   "version": "3.13.0"
  }
 },
 "nbformat": 4,
 "nbformat_minor": 2
}
